{
 "cells": [
  {
   "cell_type": "code",
   "execution_count": 42,
   "id": "0abf95da",
   "metadata": {},
   "outputs": [],
   "source": [
    "from sympy import Poly, series, symbols,Matrix"
   ]
  },
  {
   "cell_type": "code",
   "execution_count": 98,
   "id": "7e923a7d",
   "metadata": {
    "scrolled": true
   },
   "outputs": [],
   "source": [
    "x,y,r = symbols('x y r')\n",
    "# expands ogf\n",
    "extract = lambda ogf:lambda n,k: series(ogf, x, 0, n+1).removeO().coeff(x**(k+1)).simplify()\n",
    "expand = lambda ogf:lambda n: Matrix([extract(ogf)(n,k) for k in range(n)]).T.expand()"
   ]
  },
  {
   "cell_type": "code",
   "execution_count": 86,
   "id": "e1b907fe",
   "metadata": {},
   "outputs": [
    {
     "data": {
      "text/latex": [
       "$\\displaystyle \\left[\\begin{matrix}1 & 1 & 1 & 1 & 1 & 1 & 1 & 1 & 1 & 1\\end{matrix}\\right]$"
      ],
      "text/plain": [
       "Matrix([[1, 1, 1, 1, 1, 1, 1, 1, 1, 1]])"
      ]
     },
     "execution_count": 86,
     "metadata": {},
     "output_type": "execute_result"
    }
   ],
   "source": [
    "# example 0\n",
    "ogf = 1/(1-x)\n",
    "(expand(ogf)(10))"
   ]
  },
  {
   "cell_type": "code",
   "execution_count": 88,
   "id": "0669a36b",
   "metadata": {},
   "outputs": [
    {
     "data": {
      "text/latex": [
       "$\\displaystyle \\left[\\begin{matrix}1 & 2 & 3 & 4 & 5 & 6 & 7 & 8 & 9 & 10\\end{matrix}\\right]$"
      ],
      "text/plain": [
       "Matrix([[1, 2, 3, 4, 5, 6, 7, 8, 9, 10]])"
      ]
     },
     "execution_count": 88,
     "metadata": {},
     "output_type": "execute_result"
    }
   ],
   "source": [
    "# example 1\n",
    "ogf = x/(1-x)**2\n",
    "(expand(ogf)(10))"
   ]
  },
  {
   "cell_type": "code",
   "execution_count": 91,
   "id": "0128faaf",
   "metadata": {},
   "outputs": [
    {
     "data": {
      "text/latex": [
       "$\\displaystyle \\left[\\begin{matrix}0 & 1.0 & 1.0 & 2.0 & 5.0 & 14.0 & 42.0 & 132.0 & 429.0 & 1430.0\\end{matrix}\\right]$"
      ],
      "text/plain": [
       "Matrix([[0, 1.0, 1.0, 2.0, 5.0, 14.0, 42.0, 132.0, 429.0, 1430.0]])"
      ]
     },
     "execution_count": 91,
     "metadata": {},
     "output_type": "execute_result"
    }
   ],
   "source": [
    "# example 2\n",
    "ogf = (1-(1-4*x)**(1/2))/2*x\n",
    "(expand(ogf)(10))"
   ]
  },
  {
   "cell_type": "code",
   "execution_count": 99,
   "id": "bae82bd8",
   "metadata": {},
   "outputs": [
    {
     "data": {
      "text/latex": [
       "$\\displaystyle \\left[\\begin{matrix}1 & y & y^{2} & y^{3} & y^{4} & y^{5} & y^{6} & y^{7} & y^{8} & y^{9}\\end{matrix}\\right]$"
      ],
      "text/plain": [
       "Matrix([[1, y, y**2, y**3, y**4, y**5, y**6, y**7, y**8, y**9]])"
      ]
     },
     "execution_count": 99,
     "metadata": {},
     "output_type": "execute_result"
    }
   ],
   "source": [
    "geo = -x/(-1 + x*y)\n",
    "expand(g)(10)"
   ]
  },
  {
   "cell_type": "code",
   "execution_count": 57,
   "id": "fe86e114",
   "metadata": {
    "scrolled": true
   },
   "outputs": [
    {
     "data": {
      "text/latex": [
       "$\\displaystyle \\left[\\begin{matrix}1 & y + 1 & y^{2} + 2 y + 1 & y^{3} + 3 y^{2} + 3 y + 1 & y^{4} + 4 y^{3} + 6 y^{2} + 4 y + 1\\end{matrix}\\right]$"
      ],
      "text/plain": [
       "Matrix([[1, y + 1, y**2 + 2*y + 1, y**3 + 3*y**2 + 3*y + 1, y**4 + 4*y**3 + 6*y**2 + 4*y + 1]])"
      ]
     },
     "execution_count": 57,
     "metadata": {},
     "output_type": "execute_result"
    }
   ],
   "source": [
    "b = x/(1-x*(y+1))\n",
    "expand(b)(5).expand()"
   ]
  },
  {
   "cell_type": "code",
   "execution_count": 93,
   "id": "547c35e4",
   "metadata": {},
   "outputs": [
    {
     "data": {
      "text/latex": [
       "$\\displaystyle \\left[\\begin{matrix}- r y^{2} - r y & \\frac{r^{2} y^{3}}{2} + \\frac{r^{2} y^{2}}{2} + \\frac{r y^{3}}{2} + \\frac{r y^{2}}{2} & - \\frac{r^{3} y^{4}}{6} - \\frac{r^{3} y^{3}}{6} - \\frac{r^{2} y^{4}}{2} - \\frac{r^{2} y^{3}}{2} - \\frac{r y^{4}}{3} - \\frac{r y^{3}}{3}\\end{matrix}\\right]$"
      ],
      "text/plain": [
       "Matrix([[-r*y**2 - r*y, r**2*y**3/2 + r**2*y**2/2 + r*y**3/2 + r*y**2/2, -r**3*y**4/6 - r**3*y**3/6 - r**2*y**4/2 - r**2*y**3/2 - r*y**4/3 - r*y**3/3]])"
      ]
     },
     "execution_count": 93,
     "metadata": {},
     "output_type": "execute_result"
    }
   ],
   "source": [
    "e = (y+1)*(1/(1+x*y))**r -1\n",
    "expand(e)(3)"
   ]
  },
  {
   "cell_type": "code",
   "execution_count": 101,
   "id": "18c54705",
   "metadata": {},
   "outputs": [
    {
     "data": {
      "text/latex": [
       "$\\displaystyle \\left[\\begin{matrix}1 & 1 & y + 2 & 3 y + 4 & y^{2} + 8 y + 8\\end{matrix}\\right]$"
      ],
      "text/plain": [
       "Matrix([[1, 1, y + 2, 3*y + 4, y**2 + 8*y + 8]])"
      ]
     },
     "execution_count": 101,
     "metadata": {},
     "output_type": "execute_result"
    }
   ],
   "source": [
    "esd = geo.subs(y,-y) * e.subs(r,r-1)/e.subs(r,r)\n",
    "expand(esd)(5).subs(r,2)"
   ]
  },
  {
   "cell_type": "code",
   "execution_count": 102,
   "id": "86b4e0eb",
   "metadata": {
    "scrolled": true
   },
   "outputs": [
    {
     "data": {
      "text/latex": [
       "$\\displaystyle \\left[\\begin{matrix}1 & 1 & 2 y + 3 & y^{2} + 9 y + 9 & 10 y^{2} + 36 y + 27\\end{matrix}\\right]$"
      ],
      "text/plain": [
       "Matrix([[1, 1, 2*y + 3, y**2 + 9*y + 9, 10*y**2 + 36*y + 27]])"
      ]
     },
     "execution_count": 102,
     "metadata": {},
     "output_type": "execute_result"
    }
   ],
   "source": [
    "expand(esd)(5).subs(r,3)"
   ]
  },
  {
   "cell_type": "code",
   "execution_count": 103,
   "id": "3dfd715f",
   "metadata": {},
   "outputs": [
    {
     "data": {
      "text/latex": [
       "$\\displaystyle \\left[\\begin{matrix}1 & 1 & 4 y + 5 & 6 y^{2} + 30 y + 25 & 4 y^{3} + 80 y^{2} + 200 y + 125\\end{matrix}\\right]$"
      ],
      "text/plain": [
       "Matrix([[1, 1, 4*y + 5, 6*y**2 + 30*y + 25, 4*y**3 + 80*y**2 + 200*y + 125]])"
      ]
     },
     "execution_count": 103,
     "metadata": {},
     "output_type": "execute_result"
    }
   ],
   "source": [
    "expand(esd)(5).subs(r,5)"
   ]
  },
  {
   "cell_type": "code",
   "execution_count": 80,
   "id": "9fab27b9",
   "metadata": {},
   "outputs": [
    {
     "data": {
      "text/latex": [
       "$\\displaystyle \\left[\\begin{matrix}1 & y + 1 & y^{2} + 3 y + 2 & y^{3} + 6 y^{2} + 9 y + 4 & y^{4} + 10 y^{3} + 25 y^{2} + 24 y + 8\\end{matrix}\\right]$"
      ],
      "text/plain": [
       "Matrix([[1, y + 1, y**2 + 3*y + 2, y**3 + 6*y**2 + 9*y + 4, y**4 + 10*y**3 + 25*y**2 + 24*y + 8]])"
      ]
     },
     "execution_count": 80,
     "metadata": {},
     "output_type": "execute_result"
    }
   ],
   "source": [
    "f_esd_simplex = lambda dialation: esd.subs(r,dialation).subs(x,-x/(-1 + x*y))\n",
    "expand(f_esd_simplex(2))(5)"
   ]
  },
  {
   "cell_type": "code",
   "execution_count": 81,
   "id": "38ac70a8",
   "metadata": {},
   "outputs": [
    {
     "data": {
      "text/latex": [
       "$\\displaystyle \\left[\\begin{matrix}1 & y + 1 & y^{2} + 4 y + 3 & y^{3} + 10 y^{2} + 18 y + 9 & y^{4} + 20 y^{3} + 64 y^{2} + 72 y + 27\\end{matrix}\\right]$"
      ],
      "text/plain": [
       "Matrix([[1, y + 1, y**2 + 4*y + 3, y**3 + 10*y**2 + 18*y + 9, y**4 + 20*y**3 + 64*y**2 + 72*y + 27]])"
      ]
     },
     "execution_count": 81,
     "metadata": {},
     "output_type": "execute_result"
    }
   ],
   "source": [
    "expand(f_esd_simplex(3))(5)"
   ]
  },
  {
   "cell_type": "code",
   "execution_count": 84,
   "id": "b68e8ac4",
   "metadata": {
    "scrolled": true
   },
   "outputs": [
    {
     "data": {
      "text/latex": [
       "$\\displaystyle \\left[\\begin{matrix}1 & 1 & y + 1 & 3 y + 1 & y^{2} + 6 y + 1 & 5 y^{2} + 10 y + 1\\end{matrix}\\right]$"
      ],
      "text/plain": [
       "Matrix([[1, 1, y + 1, 3*y + 1, y**2 + 6*y + 1, 5*y**2 + 10*y + 1]])"
      ]
     },
     "execution_count": 84,
     "metadata": {},
     "output_type": "execute_result"
    }
   ],
   "source": [
    "h_esd_simplex = lambda dialation: esd.subs(r,dialation).subs(y,y-1)\n",
    "expand(h_esd_simplex(2))(6)"
   ]
  },
  {
   "cell_type": "code",
   "execution_count": 85,
   "id": "055b36da",
   "metadata": {},
   "outputs": [
    {
     "data": {
      "text/latex": [
       "$\\displaystyle \\left[\\begin{matrix}1 & 1 & 2 y + 1 & y^{2} + 7 y + 1 & 10 y^{2} + 16 y + 1 & 5 y^{3} + 45 y^{2} + 30 y + 1\\end{matrix}\\right]$"
      ],
      "text/plain": [
       "Matrix([[1, 1, 2*y + 1, y**2 + 7*y + 1, 10*y**2 + 16*y + 1, 5*y**3 + 45*y**2 + 30*y + 1]])"
      ]
     },
     "execution_count": 85,
     "metadata": {},
     "output_type": "execute_result"
    }
   ],
   "source": [
    "expand(h_esd_simplex(3))(6)"
   ]
  }
 ],
 "metadata": {
  "kernelspec": {
   "display_name": "Python 3 (ipykernel)",
   "language": "python",
   "name": "python3"
  },
  "language_info": {
   "codemirror_mode": {
    "name": "ipython",
    "version": 3
   },
   "file_extension": ".py",
   "mimetype": "text/x-python",
   "name": "python",
   "nbconvert_exporter": "python",
   "pygments_lexer": "ipython3",
   "version": "3.9.13"
  }
 },
 "nbformat": 4,
 "nbformat_minor": 5
}
